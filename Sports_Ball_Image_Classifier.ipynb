{
  "nbformat": 4,
  "nbformat_minor": 0,
  "metadata": {
    "colab": {
      "name": "Sports_Ball_Image_Classifier.ipynb",
      "provenance": [],
      "authorship_tag": "ABX9TyOXCi+LfgZIWQbpK9vbXVr1",
      "include_colab_link": true
    },
    "kernelspec": {
      "name": "python3",
      "display_name": "Python 3"
    },
    "accelerator": "GPU"
  },
  "cells": [
    {
      "cell_type": "markdown",
      "metadata": {
        "id": "view-in-github",
        "colab_type": "text"
      },
      "source": [
        "<a href=\"https://colab.research.google.com/github/Gonnuru/Image_Classification/blob/master/Sports_Ball_Image_Classifier.ipynb\" target=\"_parent\"><img src=\"https://colab.research.google.com/assets/colab-badge.svg\" alt=\"Open In Colab\"/></a>"
      ]
    },
    {
      "cell_type": "code",
      "metadata": {
        "id": "sz2Vqj2h0otZ",
        "colab_type": "code",
        "colab": {
          "base_uri": "https://localhost:8080/",
          "height": 80
        },
        "outputId": "5e1fdf86-b2d6-4987-d871-aee4cbc2c724"
      },
      "source": [
        "!curl -s https://course.fast.ai/setup/colab | bash"
      ],
      "execution_count": null,
      "outputs": [
        {
          "output_type": "stream",
          "text": [
            "Updating fastai...\n",
            "Done.\n"
          ],
          "name": "stdout"
        }
      ]
    },
    {
      "cell_type": "code",
      "metadata": {
        "id": "rrfmH_-i01QT",
        "colab_type": "code",
        "colab": {}
      },
      "source": [
        "#read in standard data science libs\n",
        "import pandas as pd \n",
        "import numpy as np \n",
        "import matplotlib.pyplot as plt"
      ],
      "execution_count": 1,
      "outputs": []
    },
    {
      "cell_type": "code",
      "metadata": {
        "id": "rO4JZa0Z02Q-",
        "colab_type": "code",
        "colab": {}
      },
      "source": [
        "#import google drive package\n",
        "from  google.colab import drive"
      ],
      "execution_count": 2,
      "outputs": []
    },
    {
      "cell_type": "code",
      "metadata": {
        "id": "toQO9Cio02XO",
        "colab_type": "code",
        "colab": {}
      },
      "source": [
        "from fastai.vision import *"
      ],
      "execution_count": 3,
      "outputs": []
    },
    {
      "cell_type": "code",
      "metadata": {
        "id": "sh0w5omT02bE",
        "colab_type": "code",
        "colab": {}
      },
      "source": [
        "drive.mount('/content/gdrive')"
      ],
      "execution_count": null,
      "outputs": []
    },
    {
      "cell_type": "code",
      "metadata": {
        "id": "wtOkSgUM02eK",
        "colab_type": "code",
        "colab": {}
      },
      "source": [
        "#save path to project folder \n",
        "root_path = 'gdrive/My Drive/AI_Projects/'"
      ],
      "execution_count": 5,
      "outputs": []
    },
    {
      "cell_type": "code",
      "metadata": {
        "id": "GtZofeLZ02gl",
        "colab_type": "code",
        "colab": {}
      },
      "source": [
        "# uncomment to make balls folder \n",
        "(Path(root_path)/'Balls').mkdir(parents=True, exist_ok=True)"
      ],
      "execution_count": 6,
      "outputs": []
    },
    {
      "cell_type": "code",
      "metadata": {
        "id": "lssg9XOm02lI",
        "colab_type": "code",
        "colab": {}
      },
      "source": [
        "#save path for balls folder that contains images and variable tags \n",
        "proj_path = 'gdrive/My Drive/AI_Projects/Balls/'"
      ],
      "execution_count": 7,
      "outputs": []
    },
    {
      "cell_type": "code",
      "metadata": {
        "id": "z_LllE-D02n4",
        "colab_type": "code",
        "colab": {}
      },
      "source": [
        "#make folder names \n",
        "folders = ['golf','baseball','basketball','soccer','tennis','bowling','lacrosse','american_football','rugby','cricket','volleyball','dragon','pool','hockey','softball']"
      ],
      "execution_count": 8,
      "outputs": []
    },
    {
      "cell_type": "code",
      "metadata": {
        "id": "HsNdb5Fa02s0",
        "colab_type": "code",
        "colab": {}
      },
      "source": [
        "#create all folders in /Balls\n",
        "for i in folders:\n",
        " path = Path(proj_path)\n",
        " dest = (path/i).mkdir(parents=True, exist_ok=True)"
      ],
      "execution_count": 10,
      "outputs": []
    },
    {
      "cell_type": "code",
      "metadata": {
        "id": "lFF_HMvs02x4",
        "colab_type": "code",
        "colab": {}
      },
      "source": [
        "#save fastai path \n",
        "p_path = Path(proj_path)"
      ],
      "execution_count": 11,
      "outputs": []
    },
    {
      "cell_type": "code",
      "metadata": {
        "id": "Bmp200lv020r",
        "colab_type": "code",
        "colab": {}
      },
      "source": [
        "# create image data bunch with 80/20 train test split \n",
        "np.random.seed(42)\n",
        "data = ImageDataBunch.from_folder(p_path, train=\".\", valid_pct=0.2,\n",
        "        ds_tfms=get_transforms(), size=224, num_workers=4).normalize(imagenet_stats)"
      ],
      "execution_count": null,
      "outputs": []
    },
    {
      "cell_type": "code",
      "metadata": {
        "id": "i_LVTmaz025f",
        "colab_type": "code",
        "colab": {}
      },
      "source": [
        "\n",
        "data.classes"
      ],
      "execution_count": null,
      "outputs": []
    },
    {
      "cell_type": "code",
      "metadata": {
        "id": "o5ieo6Ub1329",
        "colab_type": "code",
        "colab": {}
      },
      "source": [
        ""
      ],
      "execution_count": null,
      "outputs": []
    }
  ]
}